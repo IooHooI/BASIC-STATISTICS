{
 "cells": [
  {
   "cell_type": "markdown",
   "metadata": {},
   "source": [
    "# Стратификация"
   ]
  },
  {
   "cell_type": "markdown",
   "metadata": {},
   "source": [
    "## Необходимые модули"
   ]
  },
  {
   "cell_type": "code",
   "execution_count": 284,
   "metadata": {
    "collapsed": true
   },
   "outputs": [],
   "source": [
    "import pandas as pd\n",
    "import numpy as np\n",
    "from scipy.optimize import minimize\n",
    "from scipy.optimize import basinhopping\n",
    "from math import ceil\n",
    "import matplotlib.pyplot as plt"
   ]
  },
  {
   "cell_type": "markdown",
   "metadata": {},
   "source": [
    "## Вспомогательные методы"
   ]
  },
  {
   "cell_type": "code",
   "execution_count": 435,
   "metadata": {
    "collapsed": true
   },
   "outputs": [],
   "source": [
    "def generate_sample(proportion, size, mu_differs, sigma_differs):\n",
    "    sub_sample_sizes = np.array(list(map(lambda x: x * (size / sum(proportion)), proportion)))\n",
    "    if mu_differs:\n",
    "        mu_array = np.array([np.random.randint(-100, 100) for i in proportion])\n",
    "    else:\n",
    "        mu_array = np.array([np.random.randint(-10, 10)] * len(proportion))\n",
    "    if sigma_differs:\n",
    "        sigma_array = np.array([np.random.randint(10) for i in proportion])\n",
    "    else:\n",
    "        sigma_array = np.array([np.random.randint(10)] * len(proportion))\n",
    "    result = np.hstack([np.random.normal(mu_array[i], sigma_array[i], size=sub_sample_sizes[i]) for i in range(len(proportion))])\n",
    "    np.random.shuffle(result)\n",
    "    return result"
   ]
  },
  {
   "cell_type": "code",
   "execution_count": 189,
   "metadata": {
    "collapsed": true
   },
   "outputs": [],
   "source": [
    "def simpleSalpmling(generalSample, subSampleSize):\n",
    "    return np.array([generalSample[i] for i in list(np.random.randint(0, len(generalSample), subSampleSize))])"
   ]
  },
  {
   "cell_type": "code",
   "execution_count": 373,
   "metadata": {
    "collapsed": false
   },
   "outputs": [],
   "source": [
    "def proportional_sampling(proportion, sub_sample_size, general_sample):\n",
    "    proportion = list(map(ceil, proportion))\n",
    "    proportion = list(map(int, proportion))\n",
    "    proportion = list(map(lambda x: x if x > 0 else 1, proportion))\n",
    "    step = int(len(general_sample) / sum(proportion))\n",
    "    count_pro_portion = int(sub_sample_size / sum(proportion))\n",
    "    proportion = np.array(proportion)\n",
    "    result = np.hstack([list(map(lambda x: general_sample[x], np.random.randint(min(step * sum(proportion[:i]), step * sum(proportion[:i + 1])), max(step * sum(proportion[:i]), step * sum(proportion[:i + 1])), count_pro_portion * proportion[i]))) for i in range(len(proportion))])\n",
    "    np.random.shuffle(result)\n",
    "    return result"
   ]
  },
  {
   "cell_type": "code",
   "execution_count": 350,
   "metadata": {
    "collapsed": true
   },
   "outputs": [],
   "source": [
    "def minimization_function(proportion, general_sample):\n",
    "    hist = np.histogram(general_sample, 50, density=True)[0]\n",
    "    sub_sample = proportional_sampling(proportion, len(general_sample) / 10, general_sample)\n",
    "    hist1 = np.histogram(sub_sample, 50, density=True)[0]\n",
    "    return sum(np.abs(hist - hist1))"
   ]
  },
  {
   "cell_type": "code",
   "execution_count": 380,
   "metadata": {
    "collapsed": true
   },
   "outputs": [],
   "source": [
    "def minimize_result(initial_proportion, sample):\n",
    "    res = minimize(\n",
    "        minimization_function,\n",
    "        initial_proportion,\n",
    "        args=(sample),\n",
    "        method='SLSQP',\n",
    "        options={'eps': 1.0, 'ftol': 1e-8, 'disp': True},\n",
    "        bounds=[(1, 10) for i in initial_proportion]\n",
    "    )\n",
    "    print(list(map(int, list(map(ceil, res.x)))))\n",
    "    return list(map(int, list(map(ceil, res.x))))\n",
    "def minimize_result1(initial_proportion, sample):\n",
    "    bounds = [(1, 10) for i in initial_proportion]\n",
    "    minimizer_kwargs = {\"method\": \"SLSQP\", \"args\": sample, \"bounds\": bounds}\n",
    "    res = basinhopping(minimization_function, initial_proportion, minimizer_kwargs=minimizer_kwargs, niter=20)\n",
    "    x = list(map(ceil, res.x))\n",
    "    x = list(map(int, x))\n",
    "    x = list(map(lambda x: x if x > 0 else 1, x))\n",
    "    print(x)\n",
    "    return x"
   ]
  },
  {
   "cell_type": "code",
   "execution_count": 134,
   "metadata": {
    "collapsed": true
   },
   "outputs": [],
   "source": [
    "#def optimalSampling(generalSample, subSampleSize):\n",
    "    "
   ]
  },
  {
   "cell_type": "markdown",
   "metadata": {},
   "source": [
    "## Генерация выборки"
   ]
  },
  {
   "cell_type": "code",
   "execution_count": 453,
   "metadata": {
    "collapsed": false
   },
   "outputs": [],
   "source": [
    "proportion = (5, 2, 1)\n",
    "sample = generate_sample(proportion, 1000 * sum(proportion), True, True)"
   ]
  },
  {
   "cell_type": "code",
   "execution_count": 454,
   "metadata": {
    "collapsed": false
   },
   "outputs": [
    {
     "name": "stdout",
     "output_type": "stream",
     "text": [
      "(37.262223146673627, 57.811183375987596)\n",
      "(39.037050251906756, 56.924164189403946)\n",
      "(-1.774827105233129, 0.88701918658365031)\n"
     ]
    },
    {
     "data": {
      "image/png": "[encoded data removed]",
      "text/plain": [
       "<matplotlib.figure.Figure at 0x7f7819ee1ad0>"
      ]
     },
     "metadata": {},
     "output_type": "display_data"
    }
   ],
   "source": [
    "sub_sample = simpleSalpmling(sample, 50 * sum(proportion))\n",
    "print(sample.mean(), sample.std())\n",
    "print(sub_sample.mean(), sub_sample.std())\n",
    "print(sample.mean() - sub_sample.mean(), sample.std() - sub_sample.std())\n",
    "plt.hist(sample, 50, normed=True)\n",
    "plt.hist(sub_sample, 50, normed=True)\n",
    "plt.show()"
   ]
  },
  {
   "cell_type": "code",
   "execution_count": 455,
   "metadata": {
    "collapsed": false,
    "scrolled": false
   },
   "outputs": [
    {
     "name": "stdout",
     "output_type": "stream",
     "text": [
      "[3, 2, 3]\n",
      "(37.262223146673627, 57.811183375987596)\n",
      "(37.330281076256036, 58.492057558726046)\n",
      "(-0.06805792958240886, -0.68087418273844946)\n"
     ]
    },
    {
     "data": {
      "image/png": "[encoded data removed]",
      "text/plain": [
       "<matplotlib.figure.Figure at 0x7f7819e5e510>"
      ]
     },
     "metadata": {},
     "output_type": "display_data"
    }
   ],
   "source": [
    "sub_sample = proportional_sampling(minimize_result1([1, 1, 1], sample), 50 * sum(proportion), sample)\n",
    "print(sample.mean(), sample.std())\n",
    "print(sub_sample.mean(), sub_sample.std())\n",
    "print(sample.mean() - sub_sample.mean(), sample.std() - sub_sample.std())\n",
    "plt.hist(sample, 50, normed=True)\n",
    "plt.hist(sub_sample, 50, normed=True)\n",
    "plt.show()"
   ]
  },
  {
   "cell_type": "code",
   "execution_count": null,
   "metadata": {
    "collapsed": true
   },
   "outputs": [],
   "source": []
  }
 ],
 "metadata": {
  "kernelspec": {
   "display_name": "Python 2",
   "language": "python",
   "name": "python2"
  },
  "language_info": {
   "codemirror_mode": {
    "name": "ipython",
    "version": 2
   },
   "file_extension": ".py",
   "mimetype": "text/x-python",
   "name": "python",
   "nbconvert_exporter": "python",
   "pygments_lexer": "ipython2",
   "version": "2.7.13"
  }
 },
 "nbformat": 4,
 "nbformat_minor": 2
}
