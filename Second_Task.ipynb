{
 "cells": [
  {
   "cell_type": "markdown",
   "metadata": {},
   "source": [
    "# Стратификация"
   ]
  },
  {
   "cell_type": "markdown",
   "metadata": {},
   "source": [
    "## Необходимые модули"
   ]
  },
  {
   "cell_type": "code",
   "execution_count": 2,
   "metadata": {
    "collapsed": true
   },
   "outputs": [],
   "source": [
    "import pandas as pd\n",
    "import numpy as np\n",
    "from scipy import stats\n",
    "import matplotlib.pyplot as plt"
   ]
  },
  {
   "cell_type": "markdown",
   "metadata": {},
   "source": [
    "## Вспомогательные методы"
   ]
  },
  {
   "cell_type": "code",
   "execution_count": 83,
   "metadata": {
    "collapsed": true
   },
   "outputs": [],
   "source": [
    "def generateSample(size1, size2, size3, muDiffers, sigmaDiffers):\n",
    "    mu1 = 0\n",
    "    mu2 = 0\n",
    "    mu3 = 0\n",
    "    sigma1 = 1\n",
    "    sigma2 = 1\n",
    "    sigma3 = 1\n",
    "    if muDiffers:\n",
    "        mu1 = -7\n",
    "        mu2 = 3\n",
    "        mu3 = 8\n",
    "    else:\n",
    "        mu1 = mu2 = mu3 = 6\n",
    "    if sigmaDiffers:\n",
    "        sigma1 = 4\n",
    "        sigma2 = 1\n",
    "        sigma3 = 2\n",
    "    else:\n",
    "        sigma1 = sigma2 = sigma3 = 3\n",
    "    sample1 = np.random.normal(mu1, sigma1, size1)\n",
    "    sample2 = np.random.normal(mu2, sigma2, size2)\n",
    "    sample3 = np.random.normal(mu3, sigma3, size3)\n",
    "    result = np.hstack((sample1, sample2, sample3))\n",
    "    np.random.shuffle(result)\n",
    "    return result"
   ]
  },
  {
   "cell_type": "code",
   "execution_count": 136,
   "metadata": {
    "collapsed": true
   },
   "outputs": [],
   "source": [
    "def simpleSalpmling(generalSample, subSampleSize):\n",
    "    return np.array([generalSample[i] for i in list(np.random.randint(0, len(generalSample), subSampleSize))])"
   ]
  },
  {
   "cell_type": "code",
   "execution_count": 135,
   "metadata": {
    "collapsed": true
   },
   "outputs": [],
   "source": [
    "def proportionalSampling(generalSample, subSampleSize, proportion):\n",
    "    generalNumber = sum(proportion)\n",
    "    "
   ]
  },
  {
   "cell_type": "code",
   "execution_count": 134,
   "metadata": {
    "collapsed": true
   },
   "outputs": [],
   "source": [
    "#def optimalSampling(generalSample, subSampleSize):\n",
    "    "
   ]
  },
  {
   "cell_type": "markdown",
   "metadata": {},
   "source": [
    "## Генерация выборки"
   ]
  },
  {
   "cell_type": "code",
   "execution_count": 124,
   "metadata": {},
   "outputs": [
    {
     "data": {
      "image/png": "[encoded data removed]",
      "text/plain": [
       "<matplotlib.figure.Figure at 0x1727679bfd0>"
      ]
     },
     "metadata": {},
     "output_type": "display_data"
    }
   ],
   "source": [
    "sample = generateSample(100, 100, 300, True, True)\n",
    "plt.rcParams[\"patch.force_edgecolor\"] = True\n",
    "plt.hist(sample, bins=40, normed=True)\n",
    "plt.show()"
   ]
  },
  {
   "cell_type": "code",
   "execution_count": 131,
   "metadata": {
    "scrolled": true
   },
   "outputs": [
    {
     "data": {
      "image/png": "[encoded data removed]",
      "text/plain": [
       "<matplotlib.figure.Figure at 0x172768b6dd8>"
      ]
     },
     "metadata": {},
     "output_type": "display_data"
    }
   ],
   "source": [
    "simpleSubSample = simpleSalpmling(sample, 70)\n",
    "plt.hist(simpleSubSample, bins=40, normed=True)\n",
    "plt.show()"
   ]
  }
 ],
 "metadata": {
  "kernelspec": {
   "display_name": "Python 3",
   "language": "python",
   "name": "python3"
  },
  "language_info": {
   "codemirror_mode": {
    "name": "ipython",
    "version": 3
   },
   "file_extension": ".py",
   "mimetype": "text/x-python",
   "name": "python",
   "nbconvert_exporter": "python",
   "pygments_lexer": "ipython3",
   "version": "3.6.3"
  }
 },
 "nbformat": 4,
 "nbformat_minor": 2
}
