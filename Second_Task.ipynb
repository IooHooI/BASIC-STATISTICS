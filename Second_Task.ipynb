{
 "cells": [
  {
   "cell_type": "markdown",
   "metadata": {},
   "source": [
    "# Стратификация"
   ]
  },
  {
   "cell_type": "markdown",
   "metadata": {},
   "source": [
    "## Необходимые модули"
   ]
  },
  {
   "cell_type": "code",
   "execution_count": 3,
   "metadata": {
    "collapsed": true
   },
   "outputs": [],
   "source": [
    "import numpy as np\n",
    "import pandas as pd\n",
    "import matplotlib.pyplot as plt\n",
    "\n",
    "from math import ceil\n",
    "from scipy.optimize import minimize\n",
    "from scipy.optimize import basinhopping\n",
    "from sklearn.mixture import BayesianGaussianMixture"
   ]
  },
  {
   "cell_type": "markdown",
   "metadata": {},
   "source": [
    "## Вспомогательные методы"
   ]
  },
  {
   "cell_type": "markdown",
   "metadata": {},
   "source": [
    "В данном методе формируется генеральная выборка. Пропорция может быть на только для трех компонент, но и, вообще говоря, для любого количества. Мат. ожидание и стандартное отклонение выбираются из равномерного распределения."
   ]
  },
  {
   "cell_type": "code",
   "execution_count": 5,
   "metadata": {
    "collapsed": true
   },
   "outputs": [],
   "source": [
    "def generate_sample(proportion, size, mu_differs, sigma_differs):\n",
    "    sub_sample_sizes = np.array(list(map(lambda x: int(x * (size / sum(proportion))), proportion)))\n",
    "    if mu_differs:\n",
    "        mu_array = np.array([np.random.randint(-100, 100) for i in proportion])\n",
    "    else:\n",
    "        mu_array = np.array([np.random.randint(-100, 100)] * len(proportion))\n",
    "    if sigma_differs:\n",
    "        sigma_array = np.array([np.random.randint(100) for i in proportion])\n",
    "    else:\n",
    "        sigma_array = np.array([np.random.randint(100)] * len(proportion))\n",
    "    result = np.hstack([np.random.normal(mu_array[i], sigma_array[i], size=sub_sample_sizes[i]) for i in range(len(proportion))])\n",
    "    np.random.shuffle(result)\n",
    "    return result"
   ]
  },
  {
   "cell_type": "markdown",
   "metadata": {},
   "source": [
    "Здесь мы просто генерируем необходимое количество равномерно распределенных индексов, по которым извлекаем элементы из генеральной совокупности."
   ]
  },
  {
   "cell_type": "code",
   "execution_count": 6,
   "metadata": {
    "collapsed": true
   },
   "outputs": [],
   "source": [
    "def simpleSalpmling(generalSample, subSampleSize):\n",
    "    return np.array([generalSample[i] for i in list(np.random.randint(0, len(generalSample), subSampleSize))])"
   ]
  },
  {
   "cell_type": "markdown",
   "metadata": {},
   "source": [
    "Здесь функция построена так, что сначала определяются сколько элементов выборки приходится на долю в пропорции, затем определяется, сколько элементов необходимо извлечь из из выборки для каждой компоненты, чтобы в получившейся выборке сохранилась пропорция. Данная функция затем используется в процессе оптимизации с тем, чтобы определить, какая пропорция обеспечивает максимальную похожесть выборки на генеральную совокупность (минимизируется сумма модулей компонент гистограмм для генеральной совокупности и выборки)."
   ]
  },
  {
   "cell_type": "code",
   "execution_count": 7,
   "metadata": {
    "collapsed": true
   },
   "outputs": [],
   "source": [
    "def proportional_sampling(proportion, sub_sample_size, general_sample):\n",
    "    proportion = list(map(ceil, proportion))\n",
    "    proportion = list(map(int, proportion))\n",
    "    proportion = list(map(lambda x: x if x > 0 else 1, proportion))\n",
    "    step = int(len(general_sample) / sum(proportion))\n",
    "    count_pro_portion = int(sub_sample_size / sum(proportion))\n",
    "    proportion = np.array(proportion)\n",
    "    result = np.hstack([\n",
    "        list(\n",
    "            map(\n",
    "                lambda x: general_sample[x],\n",
    "                np.random.randint(\n",
    "                    min(step * sum(proportion[:i]), step * sum(proportion[:i + 1])),\n",
    "                    max(step * sum(proportion[:i]), step * sum(proportion[:i + 1])),\n",
    "                    count_pro_portion * proportion[i]\n",
    "                )\n",
    "            )\n",
    "        ) for i in range(len(proportion))])\n",
    "    np.random.shuffle(result)\n",
    "    return result"
   ]
  },
  {
   "cell_type": "code",
   "execution_count": 8,
   "metadata": {
    "collapsed": true
   },
   "outputs": [],
   "source": [
    "def minimization_function(proportion, general_sample):\n",
    "    hist = np.histogram(general_sample, 50, density=True)[0]\n",
    "    sub_sample = proportional_sampling(proportion, int(len(general_sample) / 10), general_sample)\n",
    "    hist1 = np.histogram(sub_sample, 50, density=True)[0]\n",
    "    return sum(np.abs(hist - hist1))"
   ]
  },
  {
   "cell_type": "code",
   "execution_count": 9,
   "metadata": {
    "collapsed": true
   },
   "outputs": [],
   "source": [
    "def minimize_result(initial_proportion, sample):\n",
    "    res = minimize(\n",
    "        minimization_function,\n",
    "        initial_proportion,\n",
    "        args=(sample),\n",
    "        method='SLSQP',\n",
    "        options={'eps': 1.0, 'ftol': 1e-8, 'disp': False},\n",
    "        bounds=[(1, 10) for i in range(len(initial_proportion))]\n",
    "    )\n",
    "    #print(list(map(int, list(map(ceil, res.x)))))\n",
    "    return list(map(int, list(map(ceil, res.x))))\n",
    "def minimize_result1(initial_proportion, sample):\n",
    "    bounds = [(1, 10) for i in initial_proportion]\n",
    "    minimizer_kwargs = {\"method\": \"SLSQP\", \"args\": sample, \"bounds\": bounds}\n",
    "    res = basinhopping(minimization_function, initial_proportion, minimizer_kwargs=minimizer_kwargs, niter=20)\n",
    "    x = list(map(ceil, res.x))\n",
    "    x = list(map(int, x))\n",
    "    x = list(map(lambda x: x if x > 0 else 1, x))\n",
    "    #print(x)\n",
    "    return x"
   ]
  },
  {
   "cell_type": "markdown",
   "metadata": {},
   "source": [
    "Здесь используется байесовская оптимизация с тем, чтобы получить апостериорную оценку распределения и выделить компоненты смеси."
   ]
  },
  {
   "cell_type": "code",
   "execution_count": 10,
   "metadata": {
    "collapsed": true
   },
   "outputs": [],
   "source": [
    "def optimalSampling(generalSample, subSampleSize):\n",
    "    mixture  = BayesianGaussianMixture(n_components=4, max_iter=int(1e10))\n",
    "    mixture.fit(generalSample.reshape(-1, 1))\n",
    "    #print(mixture.get_params())\n",
    "    sub_sample = mixture.sample(subSampleSize)[0]\n",
    "    return sub_sample"
   ]
  },
  {
   "cell_type": "markdown",
   "metadata": {},
   "source": [
    "## Генерация выборки"
   ]
  },
  {
   "cell_type": "code",
   "execution_count": 11,
   "metadata": {
    "collapsed": true
   },
   "outputs": [],
   "source": [
    "proportion = (5, 2, 1, 7)\n",
    "sample = generate_sample(proportion, 1000 * sum(proportion), False, False)"
   ]
  },
  {
   "cell_type": "code",
   "execution_count": 12,
   "metadata": {},
   "outputs": [
    {
     "name": "stdout",
     "output_type": "stream",
     "text": [
      "-17.1174863488 47.137249582\n",
      "-17.6168341404 47.981509137\n",
      "0.49934779166 -0.844259555031\n"
     ]
    },
    {
     "data": {
      "image/png": "[encoded data removed]",
      "text/plain": [
       "<matplotlib.figure.Figure at 0x260a206e160>"
      ]
     },
     "metadata": {},
     "output_type": "display_data"
    }
   ],
   "source": [
    "sub_sample = simpleSalpmling(sample, 50 * sum(proportion))\n",
    "print(sample.mean(), sample.std())\n",
    "print(sub_sample.mean(), sub_sample.std())\n",
    "print(sample.mean() - sub_sample.mean(), sample.std() - sub_sample.std())\n",
    "plt.hist(sample, 50, normed=True)\n",
    "plt.hist(sub_sample, 50, normed=True)\n",
    "plt.show()"
   ]
  },
  {
   "cell_type": "code",
   "execution_count": 13,
   "metadata": {
    "scrolled": false
   },
   "outputs": [
    {
     "name": "stdout",
     "output_type": "stream",
     "text": [
      "-17.1174863488 47.137249582\n",
      "-19.0577646747 47.8464769718\n",
      "1.94027832595 -0.7092273898\n"
     ]
    },
    {
     "data": {
      "image/png": "[encoded data removed]",
      "text/plain": [
       "<matplotlib.figure.Figure at 0x260a26bf278>"
      ]
     },
     "metadata": {},
     "output_type": "display_data"
    }
   ],
   "source": [
    "sub_sample = proportional_sampling(minimize_result([1, 1, 1, 1], sample), 50 * sum(proportion), sample)\n",
    "print(sample.mean(), sample.std())\n",
    "print(sub_sample.mean(), sub_sample.std())\n",
    "print(sample.mean() - sub_sample.mean(), sample.std() - sub_sample.std())\n",
    "plt.hist(sample, 50, normed=True)\n",
    "plt.hist(sub_sample, 50, normed=True)\n",
    "plt.show()"
   ]
  },
  {
   "cell_type": "code",
   "execution_count": 14,
   "metadata": {},
   "outputs": [
    {
     "name": "stdout",
     "output_type": "stream",
     "text": [
      "-17.1174863488 47.137249582\n",
      "-17.3070438054 46.1794638035\n",
      "0.189557456635 0.957785778445\n"
     ]
    },
    {
     "data": {
      "image/png": "[encoded data removed]",
      "text/plain": [
       "<matplotlib.figure.Figure at 0x260a284a278>"
      ]
     },
     "metadata": {},
     "output_type": "display_data"
    }
   ],
   "source": [
    "sub_sample = optimalSampling(sample, 50 * sum(proportion))\n",
    "print(sample.mean(), sample.std())\n",
    "print(sub_sample.mean(), sub_sample.std())\n",
    "print(sample.mean() - sub_sample.mean(), sample.std() - sub_sample.std())\n",
    "plt.hist(sample, 50, normed=True)\n",
    "plt.hist(sub_sample, 50, normed=True)\n",
    "plt.show()"
   ]
  },
  {
   "cell_type": "code",
   "execution_count": 143,
   "metadata": {},
   "outputs": [
    {
     "name": "stdout",
     "output_type": "stream",
     "text": [
      "Wall time: 0 ns\n"
     ]
    }
   ],
   "source": [
    "%%time\n",
    "proportion = (5, 2, 1, 7)\n",
    "n = 50"
   ]
  },
  {
   "cell_type": "code",
   "execution_count": 144,
   "metadata": {},
   "outputs": [
    {
     "name": "stdout",
     "output_type": "stream",
     "text": [
      "Wall time: 48.8 ms\n"
     ]
    }
   ],
   "source": [
    "%%time\n",
    "samples = [generate_sample(proportion, 1000 * sum(proportion), False, False) for i in range(n)]"
   ]
  },
  {
   "cell_type": "code",
   "execution_count": 145,
   "metadata": {},
   "outputs": [
    {
     "name": "stdout",
     "output_type": "stream",
     "text": [
      "Wall time: 10.9 ms\n"
     ]
    }
   ],
   "source": [
    "%%time\n",
    "simple_sub_samples = [simpleSalpmling(samples[i], 50 * sum(proportion)) for i in range(n)]"
   ]
  },
  {
   "cell_type": "code",
   "execution_count": 146,
   "metadata": {},
   "outputs": [
    {
     "name": "stdout",
     "output_type": "stream",
     "text": [
      "Wall time: 1.5 s\n"
     ]
    }
   ],
   "source": [
    "%%time\n",
    "proportional_sub_samples = [proportional_sampling(minimize_result([1, 1, 1, 1], samples[i]), 50 * sum(proportion), samples[i]) for i in range(n)]"
   ]
  },
  {
   "cell_type": "code",
   "execution_count": 147,
   "metadata": {},
   "outputs": [
    {
     "name": "stdout",
     "output_type": "stream",
     "text": [
      "Wall time: 2min 48s\n"
     ]
    }
   ],
   "source": [
    "%%time\n",
    "optimal_sub_samples = [optimalSampling(samples[i], 50 * sum(proportion)) for i in range(n)]"
   ]
  },
  {
   "cell_type": "code",
   "execution_count": 148,
   "metadata": {},
   "outputs": [
    {
     "data": {
      "image/png": "[encoded data removed]",
      "text/plain": [
       "<matplotlib.figure.Figure at 0x1b162369ba8>"
      ]
     },
     "metadata": {},
     "output_type": "display_data"
    }
   ],
   "source": [
    "plt.hist(list(map(np.mean, samples)), 50, normed=True)\n",
    "plt.show()"
   ]
  },
  {
   "cell_type": "code",
   "execution_count": 149,
   "metadata": {},
   "outputs": [
    {
     "data": {
      "image/png": "[encoded data removed]",
      "text/plain": [
       "<matplotlib.figure.Figure at 0x1b14e24b940>"
      ]
     },
     "metadata": {},
     "output_type": "display_data"
    }
   ],
   "source": [
    "plt.hist(list(map(np.mean, simple_sub_samples)), 50, normed=True)\n",
    "plt.show()"
   ]
  },
  {
   "cell_type": "code",
   "execution_count": 150,
   "metadata": {
    "scrolled": true
   },
   "outputs": [
    {
     "data": {
      "image/png": "[encoded data removed]",
      "text/plain": [
       "<matplotlib.figure.Figure at 0x1b15fb0a358>"
      ]
     },
     "metadata": {},
     "output_type": "display_data"
    }
   ],
   "source": [
    "plt.hist(list(map(np.mean, proportional_sub_samples)), 50, normed=True)\n",
    "plt.show()"
   ]
  },
  {
   "cell_type": "code",
   "execution_count": 151,
   "metadata": {
    "scrolled": false
   },
   "outputs": [
    {
     "data": {
      "image/png": "[encoded data removed]",
      "text/plain": [
       "<matplotlib.figure.Figure at 0x1b15fb57e80>"
      ]
     },
     "metadata": {},
     "output_type": "display_data"
    }
   ],
   "source": [
    "plt.hist(list(map(np.mean, optimal_sub_samples)), 50, normed=True)\n",
    "plt.show()"
   ]
  },
  {
   "cell_type": "code",
   "execution_count": 152,
   "metadata": {
    "collapsed": true
   },
   "outputs": [],
   "source": [
    "hist_samples = np.histogram(list(map(np.mean, samples)), 50, density=True)[0]\n",
    "hist_simple_sub_samples = np.histogram(list(map(np.mean, simple_sub_samples)), 50, density=True)[0]\n",
    "hist_proportional_sub_samples = np.histogram(list(map(np.mean, proportional_sub_samples)), 50, density=True)[0]\n",
    "hist_optimal_sub_samples = np.histogram(list(map(np.mean, optimal_sub_samples)), 50, density=True)[0]"
   ]
  },
  {
   "cell_type": "code",
   "execution_count": 153,
   "metadata": {
    "scrolled": true
   },
   "outputs": [
    {
     "name": "stdout",
     "output_type": "stream",
     "text": [
      "0.171239185074\n",
      "0.171168218605\n",
      "0.143214348987\n"
     ]
    }
   ],
   "source": [
    "print (sum(np.abs(hist_samples - hist_simple_sub_samples)))\n",
    "print (sum(np.abs(hist_samples - hist_proportional_sub_samples)))\n",
    "print (sum(np.abs(hist_samples - hist_optimal_sub_samples)))"
   ]
  }
 ],
 "metadata": {
  "kernelspec": {
   "display_name": "Python 3",
   "language": "python",
   "name": "python3"
  },
  "language_info": {
   "codemirror_mode": {
    "name": "ipython",
    "version": 3
   },
   "file_extension": ".py",
   "mimetype": "text/x-python",
   "name": "python",
   "nbconvert_exporter": "python",
   "pygments_lexer": "ipython3",
   "version": "3.6.3"
  }
 },
 "nbformat": 4,
 "nbformat_minor": 2
}
